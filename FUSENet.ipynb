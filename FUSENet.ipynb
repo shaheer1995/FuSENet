{
  "nbformat": 4,
  "nbformat_minor": 0,
  "metadata": {
    "colab": {
      "name": "FUSENet.ipynb",
      "provenance": [],
      "collapsed_sections": [],
      "include_colab_link": true
    },
    "kernelspec": {
      "name": "python3",
      "display_name": "Python 3"
    },
    "accelerator": "GPU"
  },
  "cells": [
    {
      "cell_type": "markdown",
      "metadata": {
        "id": "view-in-github",
        "colab_type": "text"
      },
      "source": [
        "<a href=\"https://colab.research.google.com/github/shaheer1995/FuSENet/blob/master/FUSENet.ipynb\" target=\"_parent\"><img src=\"https://colab.research.google.com/assets/colab-badge.svg\" alt=\"Open In Colab\"/></a>"
      ]
    },
    {
      "cell_type": "code",
      "metadata": {
        "colab": {
          "base_uri": "https://localhost:8080/"
        },
        "id": "BRZa2lOod90Y",
        "outputId": "3bcf7d4d-e0d0-46c8-90b9-d1456843536a"
      },
      "source": [
        "!git clone 'https://github.com/shaheer1995/FuSENet'"
      ],
      "execution_count": null,
      "outputs": [
        {
          "output_type": "stream",
          "text": [
            "fatal: destination path 'FuSENet' already exists and is not an empty directory.\n"
          ],
          "name": "stdout"
        }
      ]
    },
    {
      "cell_type": "code",
      "metadata": {
        "id": "mJVLwWkc21pG",
        "colab": {
          "base_uri": "https://localhost:8080/"
        },
        "outputId": "38900b72-0c8f-46d7-a6f0-bf8bbdc4027d"
      },
      "source": [
        "!pip3 install keras==2.2.4"
      ],
      "execution_count": null,
      "outputs": [
        {
          "output_type": "stream",
          "text": [
            "Requirement already satisfied: keras==2.2.4 in /usr/local/lib/python3.6/dist-packages (2.2.4)\n",
            "Requirement already satisfied: six>=1.9.0 in /usr/local/lib/python3.6/dist-packages (from keras==2.2.4) (1.15.0)\n",
            "Requirement already satisfied: h5py in /usr/local/lib/python3.6/dist-packages (from keras==2.2.4) (2.10.0)\n",
            "Requirement already satisfied: keras-preprocessing>=1.0.5 in /usr/local/lib/python3.6/dist-packages (from keras==2.2.4) (1.1.2)\n",
            "Requirement already satisfied: pyyaml in /usr/local/lib/python3.6/dist-packages (from keras==2.2.4) (3.13)\n",
            "Requirement already satisfied: numpy>=1.9.1 in /usr/local/lib/python3.6/dist-packages (from keras==2.2.4) (1.19.4)\n",
            "Requirement already satisfied: scipy>=0.14 in /usr/local/lib/python3.6/dist-packages (from keras==2.2.4) (1.4.1)\n",
            "Requirement already satisfied: keras-applications>=1.0.6 in /usr/local/lib/python3.6/dist-packages (from keras==2.2.4) (1.0.8)\n"
          ],
          "name": "stdout"
        }
      ]
    },
    {
      "cell_type": "code",
      "metadata": {
        "colab": {
          "base_uri": "https://localhost:8080/"
        },
        "id": "oPciR7THgjS2",
        "outputId": "6fdbc6b1-4207-4238-86db-307ac621e037"
      },
      "source": [
        "%tensorflow_version 1.x\r\n",
        "import tensorflow as tf"
      ],
      "execution_count": null,
      "outputs": [
        {
          "output_type": "stream",
          "text": [
            "TensorFlow 1.x selected.\n"
          ],
          "name": "stdout"
        }
      ]
    },
    {
      "cell_type": "code",
      "metadata": {
        "id": "I1zvad66hMfI",
        "colab": {
          "base_uri": "https://localhost:8080/",
          "height": 34
        },
        "outputId": "6fca637c-faca-46ed-8037-07a6668ede6e"
      },
      "source": [
        "import keras\n",
        "from keras.layers import Conv2D, Conv3D, Flatten, Dense, Reshape, BatchNormalization\n",
        "from keras.layers import Dropout, Input\n",
        "from keras.models import Model\n",
        "from keras.optimizers import Adam\n",
        "from keras.callbacks import ModelCheckpoint\n",
        "from keras.utils import np_utils\n",
        "\n",
        "from sklearn.decomposition import PCA\n",
        "from sklearn.model_selection import train_test_split\n",
        "from sklearn.metrics import confusion_matrix, accuracy_score, classification_report, cohen_kappa_score\n",
        "\n",
        "from operator import truediv\n",
        "\n",
        "from plotly.offline import init_notebook_mode\n",
        "\n",
        "import numpy as np\n",
        "import matplotlib.pyplot as plt\n",
        "import scipy.io as sio\n",
        "import os\n",
        "\n",
        "init_notebook_mode(connected=True)\n",
        "%matplotlib inline\n",
        "import numpy as np\n",
        "import random \n",
        "#import numpy as np\n",
        "import matplotlib.pyplot as plt\n",
        "import scipy.io as sio\n",
        "from keras.models import Sequential, Model\n",
        "from keras.layers import Convolution2D, MaxPooling2D, Conv3D, MaxPooling3D, ZeroPadding3D\n",
        "from keras.layers import Activation, Dropout, Flatten, Dense, BatchNormalization, Input\n",
        "from keras.utils.np_utils import to_categorical\n",
        "from sklearn.decomposition import PCA\n",
        "from keras.optimizers import Adam, SGD, Adadelta, RMSprop, Nadam\n",
        "import keras.callbacks as kcallbacks\n",
        "from keras.regularizers import l2\n",
        "import time\n",
        "import collections\n",
        "from sklearn import metrics, preprocessing\n",
        "from keras import backend as K"
      ],
      "execution_count": null,
      "outputs": [
        {
          "output_type": "stream",
          "text": [
            "Using TensorFlow backend.\n"
          ],
          "name": "stderr"
        },
        {
          "output_type": "display_data",
          "data": {
            "text/html": [
              "        <script type=\"text/javascript\">\n",
              "        window.PlotlyConfig = {MathJaxConfig: 'local'};\n",
              "        if (window.MathJax) {MathJax.Hub.Config({SVG: {font: \"STIX-Web\"}});}\n",
              "        if (typeof require !== 'undefined') {\n",
              "        require.undef(\"plotly\");\n",
              "        requirejs.config({\n",
              "            paths: {\n",
              "                'plotly': ['https://cdn.plot.ly/plotly-latest.min']\n",
              "            }\n",
              "        });\n",
              "        require(['plotly'], function(Plotly) {\n",
              "            window._Plotly = Plotly;\n",
              "        });\n",
              "        }\n",
              "        </script>\n",
              "        "
            ]
          },
          "metadata": {
            "tags": []
          }
        }
      ]
    },
    {
      "cell_type": "code",
      "metadata": {
        "colab": {
          "base_uri": "https://localhost:8080/"
        },
        "id": "hB4twEE-U8hS",
        "outputId": "b235f708-66fc-41f0-8958-25819c125270"
      },
      "source": [
        "%mkdir Datasets\r\n",
        "%cd Datasets"
      ],
      "execution_count": null,
      "outputs": [
        {
          "output_type": "stream",
          "text": [
            "mkdir: cannot create directory ‘Datasets’: File exists\n",
            "/content/Datasets\n"
          ],
          "name": "stdout"
        }
      ]
    },
    {
      "cell_type": "code",
      "metadata": {
        "colab": {
          "base_uri": "https://localhost:8080/"
        },
        "id": "vakHMFTrVxA2",
        "outputId": "e709c67e-d777-47ff-c561-e606cbf521fb"
      },
      "source": [
        "!wget 'http://www.ehu.eus/ccwintco/uploads/6/67/Indian_pines_corrected.mat'\r\n",
        "!wget 'http://www.ehu.eus/ccwintco/uploads/c/c4/Indian_pines_gt.mat'"
      ],
      "execution_count": null,
      "outputs": [
        {
          "output_type": "stream",
          "text": [
            "--2020-12-29 07:24:15--  http://www.ehu.eus/ccwintco/uploads/6/67/Indian_pines_corrected.mat\n",
            "Resolving www.ehu.eus (www.ehu.eus)... 158.227.0.65, 2001:720:1410::65\n",
            "Connecting to www.ehu.eus (www.ehu.eus)|158.227.0.65|:80... connected.\n",
            "HTTP request sent, awaiting response... 200 OK\n",
            "Length: 5953527 (5.7M)\n",
            "Saving to: ‘Indian_pines_corrected.mat.1’\n",
            "\n",
            "Indian_pines_correc 100%[===================>]   5.68M   591KB/s    in 12s     \n",
            "\n",
            "2020-12-29 07:24:28 (493 KB/s) - ‘Indian_pines_corrected.mat.1’ saved [5953527/5953527]\n",
            "\n",
            "--2020-12-29 07:24:28--  http://www.ehu.eus/ccwintco/uploads/c/c4/Indian_pines_gt.mat\n",
            "Resolving www.ehu.eus (www.ehu.eus)... 158.227.0.65, 2001:720:1410::65\n",
            "Connecting to www.ehu.eus (www.ehu.eus)|158.227.0.65|:80... connected.\n",
            "HTTP request sent, awaiting response... 200 OK\n",
            "Length: 1125 (1.1K)\n",
            "Saving to: ‘Indian_pines_gt.mat.1’\n",
            "\n",
            "Indian_pines_gt.mat 100%[===================>]   1.10K  --.-KB/s    in 0s      \n",
            "\n",
            "2020-12-29 07:24:28 (192 MB/s) - ‘Indian_pines_gt.mat.1’ saved [1125/1125]\n",
            "\n"
          ],
          "name": "stdout"
        }
      ]
    },
    {
      "cell_type": "code",
      "metadata": {
        "id": "2mKMExLghjyq"
      },
      "source": [
        "def loadData(name):\n",
        "    data_path = '/content/Datasets'\n",
        "    if name == 'IP':\n",
        "        data = sio.loadmat(os.path.join(data_path, 'Indian_pines_corrected.mat'))['indian_pines_corrected']\n",
        "        labels = sio.loadmat(os.path.join(data_path, 'Indian_pines_gt.mat'))['indian_pines_gt']\n",
        "    elif name == 'SA':\n",
        "        data = sio.loadmat(os.path.join(data_path, 'Salinas_corrected.mat'))['salinas_corrected']\n",
        "        labels = sio.loadmat(os.path.join(data_path, 'Salinas_gt.mat'))['salinas_gt']\n",
        "    elif name == 'PU':\n",
        "        data = sio.loadmat(os.path.join(data_path, 'PaviaU.mat'))['paviaU']\n",
        "        labels = sio.loadmat(os.path.join(data_path, 'PaviaU_gt.mat'))['paviaU_gt']\n",
        "    elif name == 'KSC':\n",
        "        data = sio.loadmat(os.path.join(data_path, 'KSC.mat'))['KSC']\n",
        "        labels = sio.loadmat(os.path.join(data_path, 'KSC_gt.mat'))['KSC_gt']\n",
        "    \n",
        "    return data, labels"
      ],
      "execution_count": null,
      "outputs": []
    },
    {
      "cell_type": "code",
      "metadata": {
        "id": "Co8BW-WshtXI"
      },
      "source": [
        "def splitTrainTestSet(X, y, testRatio, randomState=345):\n",
        "    X_train, X_test, y_train, y_test = train_test_split(X, y, test_size=testRatio, random_state=randomState,\n",
        "                                                        stratify=y)\n",
        "    return X_train, X_test, y_train, y_test"
      ],
      "execution_count": null,
      "outputs": []
    },
    {
      "cell_type": "code",
      "metadata": {
        "id": "llqxvI-uhyT6"
      },
      "source": [
        "def applyPCA(X, numComponents=75):\n",
        "    newX = np.reshape(X, (-1, X.shape[2]))\n",
        "    pca = PCA(n_components=numComponents, whiten=True)\n",
        "    newX = pca.fit_transform(newX)\n",
        "    newX = np.reshape(newX, (X.shape[0],X.shape[1], numComponents))\n",
        "    return newX, pca"
      ],
      "execution_count": null,
      "outputs": []
    },
    {
      "cell_type": "code",
      "metadata": {
        "id": "GLiYZYqXh07S"
      },
      "source": [
        "def padWithZeros(X, margin=2):\n",
        "    newX = np.zeros((X.shape[0] + 2 * margin, X.shape[1] + 2* margin, X.shape[2]))\n",
        "    x_offset = margin\n",
        "    y_offset = margin\n",
        "    newX[x_offset:X.shape[0] + x_offset, y_offset:X.shape[1] + y_offset, :] = X\n",
        "    return newX"
      ],
      "execution_count": null,
      "outputs": []
    },
    {
      "cell_type": "code",
      "metadata": {
        "id": "U5q0SW9HmsXK"
      },
      "source": [
        "def createImageCubes(X, y, windowSize=5, removeZeroLabels = True):\n",
        "    margin = int((windowSize - 1) / 2)\n",
        "    zeroPaddedX = padWithZeros(X, margin=margin)\n",
        "    # split patches\n",
        "    patchesData = np.zeros((X.shape[0] * X.shape[1], windowSize, windowSize, X.shape[2]))\n",
        "    patchesLabels = np.zeros((X.shape[0] * X.shape[1]))\n",
        "    patchIndex = 0\n",
        "    for r in range(margin, zeroPaddedX.shape[0] - margin):\n",
        "        for c in range(margin, zeroPaddedX.shape[1] - margin):\n",
        "            patch = zeroPaddedX[r - margin:r + margin + 1, c - margin:c + margin + 1]   \n",
        "            patchesData[patchIndex, :, :, :] = patch\n",
        "            patchesLabels[patchIndex] = y[r-margin, c-margin]\n",
        "            patchIndex = patchIndex + 1\n",
        "    if removeZeroLabels:\n",
        "        patchesData = patchesData[patchesLabels>0,:,:,:]\n",
        "        patchesLabels = patchesLabels[patchesLabels>0]\n",
        "        patchesLabels -= 1\n",
        "    return patchesData, patchesLabels"
      ],
      "execution_count": null,
      "outputs": []
    },
    {
      "cell_type": "code",
      "metadata": {
        "colab": {
          "base_uri": "https://localhost:8080/"
        },
        "id": "8t-0LOikXUMx",
        "outputId": "d582d010-962a-44ed-801b-109ffaa1bcbc"
      },
      "source": [
        "!cp /content/FuSENet/Utils/se_resnet8_max.py /content/\r\n",
        "!cp /content/FuSENet/Utils/cbof.py /content/\r\n",
        "%cd /content/"
      ],
      "execution_count": null,
      "outputs": [
        {
          "output_type": "stream",
          "text": [
            "/content\n"
          ],
          "name": "stdout"
        }
      ]
    },
    {
      "cell_type": "code",
      "metadata": {
        "id": "ZTbZ-IKlivZP",
        "colab": {
          "base_uri": "https://localhost:8080/"
        },
        "outputId": "e49e0cf8-95e1-4c41-8897-c668f0fda70c"
      },
      "source": [
        "from google.colab import files\n",
        "import se_resnet8_max\n",
        "\n",
        "def res4_model_ss():\n",
        "    model_res4 = se_resnet8_max.SE_ResNet8((1, w, w, K),64, mp[d])\n",
        "    # Set the hyper-parameters\n",
        "    # m set according to paper to 2 * number of bits\n",
        "    #my_custom_loss = lambda x,y: hashing_loss(x, y, m=2*32, alpha=0.001)\n",
        "\n",
        "    # Compile the model\n",
        "    #opt = keras.optimizers.adam(lr=0.1)\n",
        "    #model_res4.compile(loss=my_custom_loss, optimizer=opt,metrics=['accuracy'])\n",
        "    RMS = RMSprop(lr=0.001)\n",
        "    # Let's train the model using RMSprop\n",
        "    model_res4.compile(loss='categorical_crossentropy', optimizer=RMS, metrics=['accuracy'])\n",
        "\n",
        "    return model_res4"
      ],
      "execution_count": null,
      "outputs": [
        {
          "output_type": "stream",
          "text": [
            "WARNING:tensorflow:From /usr/local/lib/python3.6/dist-packages/keras/backend/tensorflow_backend.py:74: The name tf.get_default_graph is deprecated. Please use tf.compat.v1.get_default_graph instead.\n",
            "\n",
            "WARNING:tensorflow:From /usr/local/lib/python3.6/dist-packages/keras/backend/tensorflow_backend.py:517: The name tf.placeholder is deprecated. Please use tf.compat.v1.placeholder instead.\n",
            "\n",
            "WARNING:tensorflow:From /usr/local/lib/python3.6/dist-packages/keras/backend/tensorflow_backend.py:4185: The name tf.truncated_normal is deprecated. Please use tf.random.truncated_normal instead.\n",
            "\n",
            "WARNING:tensorflow:From /usr/local/lib/python3.6/dist-packages/keras/backend/tensorflow_backend.py:133: The name tf.placeholder_with_default is deprecated. Please use tf.compat.v1.placeholder_with_default instead.\n",
            "\n",
            "input shape: (None, 15, 15, 5, 32)\n",
            "(?, 1, 1, 32)\n",
            "input shape: (None, 13, 13, 1, 32)\n",
            "(?, 1, 1, 32)\n",
            "(None, 13, 13, 32)\n",
            "WARNING:tensorflow:From /usr/local/lib/python3.6/dist-packages/keras/backend/tensorflow_backend.py:4138: The name tf.random_uniform is deprecated. Please use tf.random.uniform instead.\n",
            "\n",
            "call\n",
            "output\n",
            "(None, 13, 13, 32)\n",
            "WARNING:tensorflow:From /usr/local/lib/python3.6/dist-packages/keras/backend/tensorflow_backend.py:3445: calling dropout (from tensorflow.python.ops.nn_ops) with keep_prob is deprecated and will be removed in a future version.\n",
            "Instructions for updating:\n",
            "Please use `rate` instead of `keep_prob`. Rate should be set to `rate = 1 - keep_prob`.\n",
            "__________________________________________________________________________________________________\n",
            "Layer (type)                    Output Shape         Param #     Connected to                     \n",
            "==================================================================================================\n",
            "input_1 (InputLayer)            (None, 15, 15, 15, 1 0                                            \n",
            "__________________________________________________________________________________________________\n",
            "conv3d_1 (Conv3D)               (None, 15, 15, 5, 32 256         input_1[0][0]                    \n",
            "__________________________________________________________________________________________________\n",
            "batch_normalization_1 (BatchNor (None, 15, 15, 5, 32 128         conv3d_1[0][0]                   \n",
            "__________________________________________________________________________________________________\n",
            "activation_1 (Activation)       (None, 15, 15, 5, 32 0           batch_normalization_1[0][0]      \n",
            "__________________________________________________________________________________________________\n",
            "conv3d_2 (Conv3D)               (None, 15, 15, 5, 32 9248        activation_1[0][0]               \n",
            "__________________________________________________________________________________________________\n",
            "batch_normalization_2 (BatchNor (None, 15, 15, 5, 32 128         conv3d_2[0][0]                   \n",
            "__________________________________________________________________________________________________\n",
            "activation_2 (Activation)       (None, 15, 15, 5, 32 0           batch_normalization_2[0][0]      \n",
            "__________________________________________________________________________________________________\n",
            "conv3d_3 (Conv3D)               (None, 15, 15, 5, 32 9248        activation_2[0][0]               \n",
            "__________________________________________________________________________________________________\n",
            "global_average_pooling3d_1 (Glo (None, 32)           0           conv3d_3[0][0]                   \n",
            "__________________________________________________________________________________________________\n",
            "global_max_pooling3d_1 (GlobalM (None, 32)           0           conv3d_3[0][0]                   \n",
            "__________________________________________________________________________________________________\n",
            "reshape_1 (Reshape)             (None, 1, 1, 32)     0           global_average_pooling3d_1[0][0] \n",
            "__________________________________________________________________________________________________\n",
            "reshape_2 (Reshape)             (None, 1, 1, 32)     0           global_max_pooling3d_1[0][0]     \n",
            "__________________________________________________________________________________________________\n",
            "dense_1 (Dense)                 (None, 1, 1, 2)      64          reshape_1[0][0]                  \n",
            "__________________________________________________________________________________________________\n",
            "dense_3 (Dense)                 (None, 1, 1, 2)      64          reshape_2[0][0]                  \n",
            "__________________________________________________________________________________________________\n",
            "dense_2 (Dense)                 (None, 1, 1, 32)     64          dense_1[0][0]                    \n",
            "__________________________________________________________________________________________________\n",
            "dense_4 (Dense)                 (None, 1, 1, 32)     64          dense_3[0][0]                    \n",
            "__________________________________________________________________________________________________\n",
            "multiply_1 (Multiply)           (None, 15, 15, 5, 32 0           conv3d_3[0][0]                   \n",
            "                                                                 dense_2[0][0]                    \n",
            "__________________________________________________________________________________________________\n",
            "multiply_2 (Multiply)           (None, 15, 15, 5, 32 0           conv3d_3[0][0]                   \n",
            "                                                                 dense_4[0][0]                    \n",
            "__________________________________________________________________________________________________\n",
            "maximum_1 (Maximum)             (None, 15, 15, 5, 32 0           multiply_1[0][0]                 \n",
            "                                                                 multiply_2[0][0]                 \n",
            "__________________________________________________________________________________________________\n",
            "add_1 (Add)                     (None, 15, 15, 5, 32 0           maximum_1[0][0]                  \n",
            "                                                                 conv3d_3[0][0]                   \n",
            "__________________________________________________________________________________________________\n",
            "batch_normalization_3 (BatchNor (None, 15, 15, 5, 32 128         add_1[0][0]                      \n",
            "__________________________________________________________________________________________________\n",
            "activation_3 (Activation)       (None, 15, 15, 5, 32 0           batch_normalization_3[0][0]      \n",
            "__________________________________________________________________________________________________\n",
            "conv3d_4 (Conv3D)               (None, 15, 15, 1, 12 20608       activation_3[0][0]               \n",
            "__________________________________________________________________________________________________\n",
            "batch_normalization_4 (BatchNor (None, 15, 15, 1, 12 512         conv3d_4[0][0]                   \n",
            "__________________________________________________________________________________________________\n",
            "activation_4 (Activation)       (None, 15, 15, 1, 12 0           batch_normalization_4[0][0]      \n",
            "__________________________________________________________________________________________________\n",
            "reshape_3 (Reshape)             (None, 15, 15, 128,  0           activation_4[0][0]               \n",
            "__________________________________________________________________________________________________\n",
            "conv3d_5 (Conv3D)               (None, 13, 13, 1, 32 36896       reshape_3[0][0]                  \n",
            "__________________________________________________________________________________________________\n",
            "batch_normalization_5 (BatchNor (None, 13, 13, 1, 32 128         conv3d_5[0][0]                   \n",
            "__________________________________________________________________________________________________\n",
            "activation_5 (Activation)       (None, 13, 13, 1, 32 0           batch_normalization_5[0][0]      \n",
            "__________________________________________________________________________________________________\n",
            "conv3d_8 (Conv3D)               (None, 13, 13, 1, 32 1056        activation_5[0][0]               \n",
            "__________________________________________________________________________________________________\n",
            "global_average_pooling3d_2 (Glo (None, 32)           0           conv3d_8[0][0]                   \n",
            "__________________________________________________________________________________________________\n",
            "global_max_pooling3d_2 (GlobalM (None, 32)           0           conv3d_8[0][0]                   \n",
            "__________________________________________________________________________________________________\n",
            "reshape_4 (Reshape)             (None, 1, 1, 32)     0           global_average_pooling3d_2[0][0] \n",
            "__________________________________________________________________________________________________\n",
            "reshape_5 (Reshape)             (None, 1, 1, 32)     0           global_max_pooling3d_2[0][0]     \n",
            "__________________________________________________________________________________________________\n",
            "dense_5 (Dense)                 (None, 1, 1, 2)      64          reshape_4[0][0]                  \n",
            "__________________________________________________________________________________________________\n",
            "dense_7 (Dense)                 (None, 1, 1, 2)      64          reshape_5[0][0]                  \n",
            "__________________________________________________________________________________________________\n",
            "conv3d_6 (Conv3D)               (None, 13, 13, 1, 32 9248        activation_5[0][0]               \n",
            "__________________________________________________________________________________________________\n",
            "dense_6 (Dense)                 (None, 1, 1, 32)     64          dense_5[0][0]                    \n",
            "__________________________________________________________________________________________________\n",
            "dense_8 (Dense)                 (None, 1, 1, 32)     64          dense_7[0][0]                    \n",
            "__________________________________________________________________________________________________\n",
            "batch_normalization_6 (BatchNor (None, 13, 13, 1, 32 128         conv3d_6[0][0]                   \n",
            "__________________________________________________________________________________________________\n",
            "multiply_3 (Multiply)           (None, 13, 13, 1, 32 0           conv3d_8[0][0]                   \n",
            "                                                                 dense_6[0][0]                    \n",
            "__________________________________________________________________________________________________\n",
            "multiply_4 (Multiply)           (None, 13, 13, 1, 32 0           conv3d_8[0][0]                   \n",
            "                                                                 dense_8[0][0]                    \n",
            "__________________________________________________________________________________________________\n",
            "activation_6 (Activation)       (None, 13, 13, 1, 32 0           batch_normalization_6[0][0]      \n",
            "__________________________________________________________________________________________________\n",
            "maximum_2 (Maximum)             (None, 13, 13, 1, 32 0           multiply_3[0][0]                 \n",
            "                                                                 multiply_4[0][0]                 \n",
            "__________________________________________________________________________________________________\n",
            "conv3d_7 (Conv3D)               (None, 13, 13, 1, 32 9248        activation_6[0][0]               \n",
            "__________________________________________________________________________________________________\n",
            "add_2 (Add)                     (None, 13, 13, 1, 32 0           maximum_2[0][0]                  \n",
            "                                                                 conv3d_7[0][0]                   \n",
            "__________________________________________________________________________________________________\n",
            "batch_normalization_7 (BatchNor (None, 13, 13, 1, 32 128         add_2[0][0]                      \n",
            "__________________________________________________________________________________________________\n",
            "activation_7 (Activation)       (None, 13, 13, 1, 32 0           batch_normalization_7[0][0]      \n",
            "__________________________________________________________________________________________________\n",
            "batch_normalization_8 (BatchNor (None, 13, 13, 1, 32 128         activation_7[0][0]               \n",
            "__________________________________________________________________________________________________\n",
            "activation_8 (Activation)       (None, 13, 13, 1, 32 0           batch_normalization_8[0][0]      \n",
            "__________________________________________________________________________________________________\n",
            "reshape_6 (Reshape)             (None, 13, 13, 32)   0           activation_8[0][0]               \n",
            "__________________________________________________________________________________________________\n",
            "bo_f__pooling_1 (BoF_Pooling)   (None, 64)           2112        reshape_6[0][0]                  \n",
            "__________________________________________________________________________________________________\n",
            "dropout_1 (Dropout)             (None, 64)           0           bo_f__pooling_1[0][0]            \n",
            "__________________________________________________________________________________________________\n",
            "dense_9 (Dense)                 (None, 16)           1040        dropout_1[0][0]                  \n",
            "==================================================================================================\n",
            "Total params: 100,880\n",
            "Trainable params: 100,176\n",
            "Non-trainable params: 704\n",
            "__________________________________________________________________________________________________\n"
          ],
          "name": "stdout"
        }
      ]
    },
    {
      "cell_type": "code",
      "metadata": {
        "id": "_MVm89fVi9PI",
        "colab": {
          "base_uri": "https://localhost:8080/"
        },
        "outputId": "37681383-9547-4d10-e09d-c2b319b2b549"
      },
      "source": [
        "import os\n",
        "data_path = '/content/FuSENet/' #Enter Desired output path here from utils\n",
        "os.listdir(data_path)"
      ],
      "execution_count": null,
      "outputs": [
        {
          "output_type": "execute_result",
          "data": {
            "text/plain": [
              "['FUSENet.ipynb', 'README.md', 'LICENSE', 'FuSENet-Paper.pdf', 'Utils', '.git']"
            ]
          },
          "metadata": {
            "tags": []
          },
          "execution_count": 14
        }
      ]
    },
    {
      "cell_type": "code",
      "metadata": {
        "colab": {
          "base_uri": "https://localhost:8080/"
        },
        "id": "t_2_XySlYzkQ",
        "outputId": "6b4572b6-6914-4887-fa28-ee22bb59ef82"
      },
      "source": [
        "!cp /content/FuSENet/Utils/utils3.rar /content/\r\n",
        "%cd /content/"
      ],
      "execution_count": null,
      "outputs": [
        {
          "output_type": "stream",
          "text": [
            "/content\n"
          ],
          "name": "stdout"
        }
      ]
    },
    {
      "cell_type": "code",
      "metadata": {
        "id": "DAOKQ0lajDlX",
        "colab": {
          "base_uri": "https://localhost:8080/"
        },
        "outputId": "51a70784-a051-44b1-def6-7248e972b271"
      },
      "source": [
        "from google.colab import files\n",
        "!unrar e -y utils3.rar\n",
        "import zeroPadding\n",
        "import normalization\n",
        "import doPCA\n",
        "import modelStatsRecord\n",
        "import averageAccuracy\n",
        "import ssrn_SS_IN"
      ],
      "execution_count": null,
      "outputs": [
        {
          "output_type": "stream",
          "text": [
            "\n",
            "UNRAR 5.50 freeware      Copyright (c) 1993-2017 Alexander Roshal\n",
            "\n",
            "\n",
            "Extracting from utils3.rar\n",
            "\n",
            "Extracting  averageAccuracy.py                                           \b\b\b\b  2%\b\b\b\b\b  OK \n",
            "Extracting  doPCA.py                                                     \b\b\b\b  4%\b\b\b\b\b  OK \n",
            "Extracting  modelStatsRecord.py                                          \b\b\b\b 11%\b\b\b\b\b  OK \n",
            "Extracting  New Text Document.txt                                        \b\b\b\b 12%\b\b\b\b\b  OK \n",
            "Extracting  normalization.py                                             \b\b\b\b 14%\b\b\b\b\b  OK \n",
            "Extracting  Rawdata_3D_ResNet.py                                         \b\b\b\b 42%\b\b\b\b\b  OK \n",
            "Extracting  Real3D_conv.py                                               \b\b\b\b 67%\b\b\b\b\b  OK \n",
            "Extracting  ssrn_SS_IN.py                                                \b\b\b\b 96%\b\b\b\b\b  OK \n",
            "Extracting  zeroPadding.py                                               \b\b\b\b 99%\b\b\b\b\b  OK \n",
            "All OK\n"
          ],
          "name": "stdout"
        }
      ]
    },
    {
      "cell_type": "code",
      "metadata": {
        "id": "FsNPWyeNiOYr"
      },
      "source": [
        "## GLOBAL VARIABLES\n",
        "dataset = ['IP']#,'IP','PU']#\n",
        "test_ratio = [0.8]#\n",
        "windowSize = [15]#\n",
        "mp = {'IP':16,'PU':9,'SA':16}"
      ],
      "execution_count": null,
      "outputs": []
    },
    {
      "cell_type": "code",
      "metadata": {
        "id": "q23JMm5FiOpO",
        "colab": {
          "base_uri": "https://localhost:8080/"
        },
        "outputId": "e58617aa-dc03-430d-acfe-d5f58e68159e"
      },
      "source": [
        "for d in dataset:\n",
        "  for t in test_ratio:\n",
        "    for w in windowSize:\n",
        "      X , Y = loadData(d)\n",
        "      K = 30 if d == 'IP' else 15\n",
        "      X,pca = applyPCA(X,numComponents=K)\n",
        "      X, Y = createImageCubes(X, Y, windowSize=w)\n",
        "      X.shape, Y.shape\n",
        "      sz = X.shape[0]//10\n",
        "      Y = to_categorical(Y)\n",
        "      X = X.reshape((X.shape[0],w,w,K,1))\n",
        "      train_X, test_X, train_Y, test_Y = splitTrainTestSet(X, Y, t)\n",
        "      val_X = test_X[:sz]\n",
        "      test_X = test_X[sz:]\n",
        "      val_Y = test_Y[:sz]\n",
        "      test_Y = test_Y[sz:]\n",
        "      KAPPA_RES_SS4 = []\n",
        "      OA_RES_SS4 = []\n",
        "      AA_RES_SS4 = []\n",
        "      TRAINING_TIME_RES_SS4 = []\n",
        "      TESTING_TIME_RES_SS4 = []\n",
        "      ELEMENT_ACC_RES_SS4 = np.zeros((1, mp[d]))\n",
        "\n",
        "\n",
        "      for index_iter in range(1):\n",
        "          #try:\n",
        "            print(\"# %d Iteration\" % (index_iter + 1))\n",
        "\n",
        "            # save the best validated model \n",
        "\n",
        "            best_weights_RES_path_ss4 = data_path+ '/' + str(\n",
        "                index_iter + 1) + '_NEW_KERNEL32_B_32_hashing'+str(w)+'_'+str(int((1-t)*100))+'.hdf5'\n",
        "\n",
        "            \n",
        "            \n",
        "            #Bilinear\n",
        "            #\n",
        "            #\n",
        "            \n",
        "            model_res4_SS_BN = res4_model_ss()\n",
        "\n",
        "            earlyStopping6 = kcallbacks.EarlyStopping(monitor='val_loss', patience=200, verbose=1, mode='auto')\n",
        "            saveBestModel6 = kcallbacks.ModelCheckpoint(best_weights_RES_path_ss4, monitor='val_loss', verbose=1,\n",
        "                                                        save_best_only=True,\n",
        "                                                        mode='auto')\n",
        "\n",
        "            tic6 = time.clock()\n",
        "            print(train_X.shape, test_X.shape)\n",
        "            history_res4_SS_BN = model_res4_SS_BN.fit(\n",
        "                train_X, train_Y,\n",
        "                validation_data=(val_X, val_Y),\n",
        "                batch_size=256,\n",
        "                nb_epoch=50, shuffle=True, callbacks=[earlyStopping6,saveBestModel6])\n",
        "            toc6 = time.clock()\n",
        "\n",
        "            tic7 = time.clock()\n",
        "            loss_and_metrics_res4_SS_BN = model_res4_SS_BN.evaluate(\n",
        "                test_X, test_Y,\n",
        "                batch_size=32)\n",
        "            toc7 = time.clock()\n",
        "\n",
        "            print('3D RES_SS4 without BN Training Time: ', toc6 - tic6)\n",
        "            print('3D RES_SS4 without BN Test time:', toc7 - tic7)\n",
        "\n",
        "            print('3D RES_SS4 without BN Test score:', loss_and_metrics_res4_SS_BN[0])\n",
        "            print('3D RES_SS4 without BN Test accuracy:', loss_and_metrics_res4_SS_BN[1])\n",
        "\n",
        "            print(history_res4_SS_BN.history.keys())\n",
        "\n",
        "            pred_test_res4 = model_res4_SS_BN.predict(test_X).argmax(axis=1)\n",
        "            collections.Counter(pred_test_res4)\n",
        "            gt_test = test_Y\n",
        "            overall_acc_res4 = metrics.accuracy_score(pred_test_res4, gt_test.argmax(axis=1))\n",
        "            confusion_matrix_res4 = metrics.confusion_matrix(pred_test_res4, gt_test.argmax(axis=1))\n",
        "            each_acc_res4, average_acc_res4 = averageAccuracy.AA_andEachClassAccuracy(confusion_matrix_res4)\n",
        "            kappa = metrics.cohen_kappa_score(pred_test_res4, gt_test.argmax(axis=1))\n",
        "            KAPPA_RES_SS4.append(kappa)\n",
        "            OA_RES_SS4.append(overall_acc_res4)\n",
        "            AA_RES_SS4.append(average_acc_res4)\n",
        "            TRAINING_TIME_RES_SS4.append(toc6 - tic6)\n",
        "            TESTING_TIME_RES_SS4.append(toc7 - tic7)\n",
        "            ELEMENT_ACC_RES_SS4[index_iter, :] = each_acc_res4\n",
        "\n",
        "            print(\"3D RESNET_SS4 without BN training finished.\")\n",
        "            print(\"# %d Iteration\" % (index_iter + 1))\n",
        "\n",
        "            modelStatsRecord.outputStats(KAPPA_RES_SS4, OA_RES_SS4, AA_RES_SS4, ELEMENT_ACC_RES_SS4,\n",
        "                                     TRAINING_TIME_RES_SS4, TESTING_TIME_RES_SS4,\n",
        "                                     history_res4_SS_BN, loss_and_metrics_res4_SS_BN, mp[d],\n",
        "                                     data_path + '/IN_train_RESNET8_KERNEL64_20_B_32_Fuse_'+str(w)+'_'+str(int((1-t)*100))+'.txt',\n",
        "                                     data_path + '/IN_train_RESNET8_KERNEL64_20_B_32_PU_element_9_Fuse_'+str(w)+'_'+str(int((1-t)*100))+'.txt')"
      ],
      "execution_count": null,
      "outputs": [
        {
          "output_type": "stream",
          "text": [
            "# 1 Iteration\n",
            "input shape: (None, 15, 15, 12, 32)\n",
            "(?, 1, 1, 32)\n",
            "input shape: (None, 13, 13, 1, 32)\n",
            "(?, 1, 1, 32)\n",
            "(None, 13, 13, 32)\n",
            "call\n",
            "output\n",
            "(None, 13, 13, 32)\n",
            "__________________________________________________________________________________________________\n",
            "Layer (type)                    Output Shape         Param #     Connected to                     \n",
            "==================================================================================================\n",
            "input_2 (InputLayer)            (None, 15, 15, 30, 1 0                                            \n",
            "__________________________________________________________________________________________________\n",
            "conv3d_9 (Conv3D)               (None, 15, 15, 12, 3 256         input_2[0][0]                    \n",
            "__________________________________________________________________________________________________\n",
            "batch_normalization_9 (BatchNor (None, 15, 15, 12, 3 128         conv3d_9[0][0]                   \n",
            "__________________________________________________________________________________________________\n",
            "activation_9 (Activation)       (None, 15, 15, 12, 3 0           batch_normalization_9[0][0]      \n",
            "__________________________________________________________________________________________________\n",
            "conv3d_10 (Conv3D)              (None, 15, 15, 12, 3 9248        activation_9[0][0]               \n",
            "__________________________________________________________________________________________________\n",
            "batch_normalization_10 (BatchNo (None, 15, 15, 12, 3 128         conv3d_10[0][0]                  \n",
            "__________________________________________________________________________________________________\n",
            "activation_10 (Activation)      (None, 15, 15, 12, 3 0           batch_normalization_10[0][0]     \n",
            "__________________________________________________________________________________________________\n",
            "conv3d_11 (Conv3D)              (None, 15, 15, 12, 3 9248        activation_10[0][0]              \n",
            "__________________________________________________________________________________________________\n",
            "global_average_pooling3d_3 (Glo (None, 32)           0           conv3d_11[0][0]                  \n",
            "__________________________________________________________________________________________________\n",
            "global_max_pooling3d_3 (GlobalM (None, 32)           0           conv3d_11[0][0]                  \n",
            "__________________________________________________________________________________________________\n",
            "reshape_7 (Reshape)             (None, 1, 1, 32)     0           global_average_pooling3d_3[0][0] \n",
            "__________________________________________________________________________________________________\n",
            "reshape_8 (Reshape)             (None, 1, 1, 32)     0           global_max_pooling3d_3[0][0]     \n",
            "__________________________________________________________________________________________________\n",
            "dense_10 (Dense)                (None, 1, 1, 2)      64          reshape_7[0][0]                  \n",
            "__________________________________________________________________________________________________\n",
            "dense_12 (Dense)                (None, 1, 1, 2)      64          reshape_8[0][0]                  \n",
            "__________________________________________________________________________________________________\n",
            "dense_11 (Dense)                (None, 1, 1, 32)     64          dense_10[0][0]                   \n",
            "__________________________________________________________________________________________________\n",
            "dense_13 (Dense)                (None, 1, 1, 32)     64          dense_12[0][0]                   \n",
            "__________________________________________________________________________________________________\n",
            "multiply_5 (Multiply)           (None, 15, 15, 12, 3 0           conv3d_11[0][0]                  \n",
            "                                                                 dense_11[0][0]                   \n",
            "__________________________________________________________________________________________________\n",
            "multiply_6 (Multiply)           (None, 15, 15, 12, 3 0           conv3d_11[0][0]                  \n",
            "                                                                 dense_13[0][0]                   \n",
            "__________________________________________________________________________________________________\n",
            "maximum_3 (Maximum)             (None, 15, 15, 12, 3 0           multiply_5[0][0]                 \n",
            "                                                                 multiply_6[0][0]                 \n",
            "__________________________________________________________________________________________________\n",
            "add_3 (Add)                     (None, 15, 15, 12, 3 0           maximum_3[0][0]                  \n",
            "                                                                 conv3d_11[0][0]                  \n",
            "__________________________________________________________________________________________________\n",
            "batch_normalization_11 (BatchNo (None, 15, 15, 12, 3 128         add_3[0][0]                      \n",
            "__________________________________________________________________________________________________\n",
            "activation_11 (Activation)      (None, 15, 15, 12, 3 0           batch_normalization_11[0][0]     \n",
            "__________________________________________________________________________________________________\n",
            "conv3d_12 (Conv3D)              (None, 15, 15, 1, 12 49280       activation_11[0][0]              \n",
            "__________________________________________________________________________________________________\n",
            "batch_normalization_12 (BatchNo (None, 15, 15, 1, 12 512         conv3d_12[0][0]                  \n",
            "__________________________________________________________________________________________________\n",
            "activation_12 (Activation)      (None, 15, 15, 1, 12 0           batch_normalization_12[0][0]     \n",
            "__________________________________________________________________________________________________\n",
            "reshape_9 (Reshape)             (None, 15, 15, 128,  0           activation_12[0][0]              \n",
            "__________________________________________________________________________________________________\n",
            "conv3d_13 (Conv3D)              (None, 13, 13, 1, 32 36896       reshape_9[0][0]                  \n",
            "__________________________________________________________________________________________________\n",
            "batch_normalization_13 (BatchNo (None, 13, 13, 1, 32 128         conv3d_13[0][0]                  \n",
            "__________________________________________________________________________________________________\n",
            "activation_13 (Activation)      (None, 13, 13, 1, 32 0           batch_normalization_13[0][0]     \n",
            "__________________________________________________________________________________________________\n",
            "conv3d_16 (Conv3D)              (None, 13, 13, 1, 32 1056        activation_13[0][0]              \n",
            "__________________________________________________________________________________________________\n",
            "global_average_pooling3d_4 (Glo (None, 32)           0           conv3d_16[0][0]                  \n",
            "__________________________________________________________________________________________________\n",
            "global_max_pooling3d_4 (GlobalM (None, 32)           0           conv3d_16[0][0]                  \n",
            "__________________________________________________________________________________________________\n",
            "reshape_10 (Reshape)            (None, 1, 1, 32)     0           global_average_pooling3d_4[0][0] \n",
            "__________________________________________________________________________________________________\n",
            "reshape_11 (Reshape)            (None, 1, 1, 32)     0           global_max_pooling3d_4[0][0]     \n",
            "__________________________________________________________________________________________________\n",
            "dense_14 (Dense)                (None, 1, 1, 2)      64          reshape_10[0][0]                 \n",
            "__________________________________________________________________________________________________\n",
            "dense_16 (Dense)                (None, 1, 1, 2)      64          reshape_11[0][0]                 \n",
            "__________________________________________________________________________________________________\n",
            "conv3d_14 (Conv3D)              (None, 13, 13, 1, 32 9248        activation_13[0][0]              \n",
            "__________________________________________________________________________________________________\n",
            "dense_15 (Dense)                (None, 1, 1, 32)     64          dense_14[0][0]                   \n",
            "__________________________________________________________________________________________________\n",
            "dense_17 (Dense)                (None, 1, 1, 32)     64          dense_16[0][0]                   \n",
            "__________________________________________________________________________________________________\n",
            "batch_normalization_14 (BatchNo (None, 13, 13, 1, 32 128         conv3d_14[0][0]                  \n",
            "__________________________________________________________________________________________________\n",
            "multiply_7 (Multiply)           (None, 13, 13, 1, 32 0           conv3d_16[0][0]                  \n",
            "                                                                 dense_15[0][0]                   \n",
            "__________________________________________________________________________________________________\n",
            "multiply_8 (Multiply)           (None, 13, 13, 1, 32 0           conv3d_16[0][0]                  \n",
            "                                                                 dense_17[0][0]                   \n",
            "__________________________________________________________________________________________________\n",
            "activation_14 (Activation)      (None, 13, 13, 1, 32 0           batch_normalization_14[0][0]     \n",
            "__________________________________________________________________________________________________\n",
            "maximum_4 (Maximum)             (None, 13, 13, 1, 32 0           multiply_7[0][0]                 \n",
            "                                                                 multiply_8[0][0]                 \n",
            "__________________________________________________________________________________________________\n",
            "conv3d_15 (Conv3D)              (None, 13, 13, 1, 32 9248        activation_14[0][0]              \n",
            "__________________________________________________________________________________________________\n",
            "add_4 (Add)                     (None, 13, 13, 1, 32 0           maximum_4[0][0]                  \n",
            "                                                                 conv3d_15[0][0]                  \n",
            "__________________________________________________________________________________________________\n",
            "batch_normalization_15 (BatchNo (None, 13, 13, 1, 32 128         add_4[0][0]                      \n",
            "__________________________________________________________________________________________________\n",
            "activation_15 (Activation)      (None, 13, 13, 1, 32 0           batch_normalization_15[0][0]     \n",
            "__________________________________________________________________________________________________\n",
            "batch_normalization_16 (BatchNo (None, 13, 13, 1, 32 128         activation_15[0][0]              \n",
            "__________________________________________________________________________________________________\n",
            "activation_16 (Activation)      (None, 13, 13, 1, 32 0           batch_normalization_16[0][0]     \n",
            "__________________________________________________________________________________________________\n",
            "reshape_12 (Reshape)            (None, 13, 13, 32)   0           activation_16[0][0]              \n",
            "__________________________________________________________________________________________________\n",
            "bo_f__pooling_2 (BoF_Pooling)   (None, 64)           2112        reshape_12[0][0]                 \n",
            "__________________________________________________________________________________________________\n",
            "dropout_2 (Dropout)             (None, 64)           0           bo_f__pooling_2[0][0]            \n",
            "__________________________________________________________________________________________________\n",
            "dense_18 (Dense)                (None, 16)           1040        dropout_2[0][0]                  \n",
            "==================================================================================================\n",
            "Total params: 129,552\n",
            "Trainable params: 128,848\n",
            "Non-trainable params: 704\n",
            "__________________________________________________________________________________________________\n",
            "WARNING:tensorflow:From /usr/local/lib/python3.6/dist-packages/keras/optimizers.py:790: The name tf.train.Optimizer is deprecated. Please use tf.compat.v1.train.Optimizer instead.\n",
            "\n",
            "WARNING:tensorflow:From /usr/local/lib/python3.6/dist-packages/keras/backend/tensorflow_backend.py:3295: The name tf.log is deprecated. Please use tf.math.log instead.\n",
            "\n",
            "(2049, 15, 15, 30, 1) (7176, 15, 15, 30, 1)\n",
            "WARNING:tensorflow:From /tensorflow-1.15.2/python3.6/tensorflow_core/python/ops/math_grad.py:1424: where (from tensorflow.python.ops.array_ops) is deprecated and will be removed in a future version.\n",
            "Instructions for updating:\n",
            "Use tf.where in 2.0, which has the same broadcast rule as np.where\n"
          ],
          "name": "stdout"
        },
        {
          "output_type": "stream",
          "text": [
            "/usr/local/lib/python3.6/dist-packages/ipykernel_launcher.py:53: UserWarning:\n",
            "\n",
            "The `nb_epoch` argument in `fit` has been renamed `epochs`.\n",
            "\n"
          ],
          "name": "stderr"
        },
        {
          "output_type": "stream",
          "text": [
            "WARNING:tensorflow:From /usr/local/lib/python3.6/dist-packages/keras/backend/tensorflow_backend.py:986: The name tf.assign_add is deprecated. Please use tf.compat.v1.assign_add instead.\n",
            "\n",
            "WARNING:tensorflow:From /usr/local/lib/python3.6/dist-packages/keras/backend/tensorflow_backend.py:973: The name tf.assign is deprecated. Please use tf.compat.v1.assign instead.\n",
            "\n",
            "WARNING:tensorflow:From /usr/local/lib/python3.6/dist-packages/keras/backend/tensorflow_backend.py:2741: The name tf.Session is deprecated. Please use tf.compat.v1.Session instead.\n",
            "\n",
            "Train on 2049 samples, validate on 1024 samples\n",
            "Epoch 1/50\n",
            "WARNING:tensorflow:From /usr/local/lib/python3.6/dist-packages/keras/backend/tensorflow_backend.py:174: The name tf.get_default_session is deprecated. Please use tf.compat.v1.get_default_session instead.\n",
            "\n",
            "WARNING:tensorflow:From /usr/local/lib/python3.6/dist-packages/keras/backend/tensorflow_backend.py:181: The name tf.ConfigProto is deprecated. Please use tf.compat.v1.ConfigProto instead.\n",
            "\n",
            "WARNING:tensorflow:From /usr/local/lib/python3.6/dist-packages/keras/backend/tensorflow_backend.py:190: The name tf.global_variables is deprecated. Please use tf.compat.v1.global_variables instead.\n",
            "\n",
            "WARNING:tensorflow:From /usr/local/lib/python3.6/dist-packages/keras/backend/tensorflow_backend.py:199: The name tf.is_variable_initialized is deprecated. Please use tf.compat.v1.is_variable_initialized instead.\n",
            "\n",
            "WARNING:tensorflow:From /usr/local/lib/python3.6/dist-packages/keras/backend/tensorflow_backend.py:206: The name tf.variables_initializer is deprecated. Please use tf.compat.v1.variables_initializer instead.\n",
            "\n",
            "2049/2049 [==============================] - 49s 24ms/step - loss: 8.1152 - acc: 0.1005 - val_loss: 13.5282 - val_acc: 0.0918\n",
            "\n",
            "Epoch 00001: val_loss improved from inf to 13.52818, saving model to /content/FuSENet//1_NEW_KERNEL32_B_32_hashing15_19.hdf5\n",
            "Epoch 2/50\n",
            "2049/2049 [==============================] - 2s 848us/step - loss: 8.5232 - acc: 0.1020 - val_loss: 13.3426 - val_acc: 0.0918\n",
            "\n",
            "Epoch 00002: val_loss improved from 13.52818 to 13.34260, saving model to /content/FuSENet//1_NEW_KERNEL32_B_32_hashing15_19.hdf5\n",
            "Epoch 3/50\n",
            "2049/2049 [==============================] - 2s 829us/step - loss: 8.1555 - acc: 0.1122 - val_loss: 13.1523 - val_acc: 0.0918\n",
            "\n",
            "Epoch 00003: val_loss improved from 13.34260 to 13.15227, saving model to /content/FuSENet//1_NEW_KERNEL32_B_32_hashing15_19.hdf5\n",
            "Epoch 4/50\n",
            "2049/2049 [==============================] - 2s 826us/step - loss: 7.2486 - acc: 0.1498 - val_loss: 10.7094 - val_acc: 0.0820\n",
            "\n",
            "Epoch 00004: val_loss improved from 13.15227 to 10.70944, saving model to /content/FuSENet//1_NEW_KERNEL32_B_32_hashing15_19.hdf5\n",
            "Epoch 5/50\n",
            "2049/2049 [==============================] - 2s 825us/step - loss: 4.4695 - acc: 0.2631 - val_loss: 10.1291 - val_acc: 0.0479\n",
            "\n",
            "Epoch 00005: val_loss improved from 10.70944 to 10.12912, saving model to /content/FuSENet//1_NEW_KERNEL32_B_32_hashing15_19.hdf5\n",
            "Epoch 6/50\n",
            "2049/2049 [==============================] - 2s 829us/step - loss: 3.2768 - acc: 0.3080 - val_loss: 9.1284 - val_acc: 0.0791\n",
            "\n",
            "Epoch 00006: val_loss improved from 10.12912 to 9.12836, saving model to /content/FuSENet//1_NEW_KERNEL32_B_32_hashing15_19.hdf5\n",
            "Epoch 7/50\n",
            "2049/2049 [==============================] - 2s 826us/step - loss: 3.2166 - acc: 0.3411 - val_loss: 9.2169 - val_acc: 0.1357\n",
            "\n",
            "Epoch 00007: val_loss did not improve from 9.12836\n",
            "Epoch 8/50\n",
            "2049/2049 [==============================] - 2s 833us/step - loss: 2.6158 - acc: 0.3963 - val_loss: 5.8533 - val_acc: 0.1064\n",
            "\n",
            "Epoch 00008: val_loss improved from 9.12836 to 5.85330, saving model to /content/FuSENet//1_NEW_KERNEL32_B_32_hashing15_19.hdf5\n",
            "Epoch 9/50\n",
            "2049/2049 [==============================] - 2s 833us/step - loss: 2.3996 - acc: 0.4441 - val_loss: 10.4676 - val_acc: 0.2061\n",
            "\n",
            "Epoch 00009: val_loss did not improve from 5.85330\n",
            "Epoch 10/50\n",
            "2049/2049 [==============================] - 2s 833us/step - loss: 2.5045 - acc: 0.4324 - val_loss: 7.4190 - val_acc: 0.2217\n",
            "\n",
            "Epoch 00010: val_loss did not improve from 5.85330\n",
            "Epoch 11/50\n",
            "2049/2049 [==============================] - 2s 831us/step - loss: 2.0454 - acc: 0.4983 - val_loss: 6.1886 - val_acc: 0.2861\n",
            "\n",
            "Epoch 00011: val_loss did not improve from 5.85330\n",
            "Epoch 12/50\n",
            "2049/2049 [==============================] - 2s 838us/step - loss: 2.4965 - acc: 0.4651 - val_loss: 4.5809 - val_acc: 0.3174\n",
            "\n",
            "Epoch 00012: val_loss improved from 5.85330 to 4.58088, saving model to /content/FuSENet//1_NEW_KERNEL32_B_32_hashing15_19.hdf5\n",
            "Epoch 13/50\n",
            "2049/2049 [==============================] - 2s 835us/step - loss: 2.1555 - acc: 0.5149 - val_loss: 5.0521 - val_acc: 0.2969\n",
            "\n",
            "Epoch 00013: val_loss did not improve from 4.58088\n",
            "Epoch 14/50\n",
            "2049/2049 [==============================] - 2s 838us/step - loss: 2.0547 - acc: 0.5066 - val_loss: 5.0946 - val_acc: 0.3105\n",
            "\n",
            "Epoch 00014: val_loss did not improve from 4.58088\n",
            "Epoch 15/50\n",
            "2049/2049 [==============================] - 2s 841us/step - loss: 2.5731 - acc: 0.5041 - val_loss: 5.9255 - val_acc: 0.3252\n",
            "\n",
            "Epoch 00015: val_loss did not improve from 4.58088\n",
            "Epoch 16/50\n",
            "2049/2049 [==============================] - 2s 841us/step - loss: 2.6410 - acc: 0.5071 - val_loss: 7.1606 - val_acc: 0.2734\n",
            "\n",
            "Epoch 00016: val_loss did not improve from 4.58088\n",
            "Epoch 17/50\n",
            "2049/2049 [==============================] - 2s 841us/step - loss: 2.4105 - acc: 0.5286 - val_loss: 4.2659 - val_acc: 0.4385\n",
            "\n",
            "Epoch 00017: val_loss improved from 4.58088 to 4.26589, saving model to /content/FuSENet//1_NEW_KERNEL32_B_32_hashing15_19.hdf5\n",
            "Epoch 18/50\n",
            "2049/2049 [==============================] - 2s 839us/step - loss: 1.9900 - acc: 0.5827 - val_loss: 2.4785 - val_acc: 0.5400\n",
            "\n",
            "Epoch 00018: val_loss improved from 4.26589 to 2.47854, saving model to /content/FuSENet//1_NEW_KERNEL32_B_32_hashing15_19.hdf5\n",
            "Epoch 19/50\n",
            "2049/2049 [==============================] - 2s 838us/step - loss: 1.9634 - acc: 0.5808 - val_loss: 1.9353 - val_acc: 0.6475\n",
            "\n",
            "Epoch 00019: val_loss improved from 2.47854 to 1.93531, saving model to /content/FuSENet//1_NEW_KERNEL32_B_32_hashing15_19.hdf5\n",
            "Epoch 20/50\n",
            "2049/2049 [==============================] - 2s 840us/step - loss: 1.7630 - acc: 0.6008 - val_loss: 2.4334 - val_acc: 0.5195\n",
            "\n",
            "Epoch 00020: val_loss did not improve from 1.93531\n",
            "Epoch 21/50\n",
            "2049/2049 [==============================] - 2s 848us/step - loss: 1.8010 - acc: 0.6291 - val_loss: 1.3517 - val_acc: 0.7148\n",
            "\n",
            "Epoch 00021: val_loss improved from 1.93531 to 1.35167, saving model to /content/FuSENet//1_NEW_KERNEL32_B_32_hashing15_19.hdf5\n",
            "Epoch 22/50\n",
            "2049/2049 [==============================] - 2s 843us/step - loss: 1.4165 - acc: 0.6701 - val_loss: 1.3402 - val_acc: 0.7246\n",
            "\n",
            "Epoch 00022: val_loss improved from 1.35167 to 1.34016, saving model to /content/FuSENet//1_NEW_KERNEL32_B_32_hashing15_19.hdf5\n",
            "Epoch 23/50\n",
            "2049/2049 [==============================] - 2s 849us/step - loss: 1.4443 - acc: 0.6388 - val_loss: 2.6572 - val_acc: 0.4014\n",
            "\n",
            "Epoch 00023: val_loss did not improve from 1.34016\n",
            "Epoch 24/50\n",
            "2049/2049 [==============================] - 2s 848us/step - loss: 1.4151 - acc: 0.6803 - val_loss: 1.6854 - val_acc: 0.5605\n",
            "\n",
            "Epoch 00024: val_loss did not improve from 1.34016\n",
            "Epoch 25/50\n",
            "2049/2049 [==============================] - 2s 848us/step - loss: 1.2138 - acc: 0.6823 - val_loss: 2.7886 - val_acc: 0.5303\n",
            "\n",
            "Epoch 00025: val_loss did not improve from 1.34016\n",
            "Epoch 26/50\n",
            "2049/2049 [==============================] - 2s 851us/step - loss: 1.2740 - acc: 0.7042 - val_loss: 1.5894 - val_acc: 0.6377\n",
            "\n",
            "Epoch 00026: val_loss did not improve from 1.34016\n",
            "Epoch 27/50\n",
            "2049/2049 [==============================] - 2s 850us/step - loss: 1.3197 - acc: 0.6964 - val_loss: 1.9697 - val_acc: 0.6465\n",
            "\n",
            "Epoch 00027: val_loss did not improve from 1.34016\n",
            "Epoch 28/50\n",
            "2049/2049 [==============================] - 2s 855us/step - loss: 1.1263 - acc: 0.7179 - val_loss: 1.8958 - val_acc: 0.6094\n",
            "\n",
            "Epoch 00028: val_loss did not improve from 1.34016\n",
            "Epoch 29/50\n",
            "2049/2049 [==============================] - 2s 850us/step - loss: 1.2607 - acc: 0.6984 - val_loss: 1.3986 - val_acc: 0.6758\n",
            "\n",
            "Epoch 00029: val_loss did not improve from 1.34016\n",
            "Epoch 30/50\n",
            "2049/2049 [==============================] - 2s 856us/step - loss: 1.1380 - acc: 0.7394 - val_loss: 1.2524 - val_acc: 0.6797\n",
            "\n",
            "Epoch 00030: val_loss improved from 1.34016 to 1.25235, saving model to /content/FuSENet//1_NEW_KERNEL32_B_32_hashing15_19.hdf5\n",
            "Epoch 31/50\n",
            "2049/2049 [==============================] - 2s 853us/step - loss: 1.0759 - acc: 0.7389 - val_loss: 0.8685 - val_acc: 0.7744\n",
            "\n",
            "Epoch 00031: val_loss improved from 1.25235 to 0.86847, saving model to /content/FuSENet//1_NEW_KERNEL32_B_32_hashing15_19.hdf5\n",
            "Epoch 32/50\n",
            "2049/2049 [==============================] - 2s 860us/step - loss: 1.0262 - acc: 0.7311 - val_loss: 2.8028 - val_acc: 0.5879\n",
            "\n",
            "Epoch 00032: val_loss did not improve from 0.86847\n",
            "Epoch 33/50\n",
            "2049/2049 [==============================] - 2s 860us/step - loss: 1.2649 - acc: 0.7345 - val_loss: 1.5990 - val_acc: 0.7354\n",
            "\n",
            "Epoch 00033: val_loss did not improve from 0.86847\n",
            "Epoch 34/50\n",
            "2049/2049 [==============================] - 2s 870us/step - loss: 1.0040 - acc: 0.7462 - val_loss: 0.7647 - val_acc: 0.7920\n",
            "\n",
            "Epoch 00034: val_loss improved from 0.86847 to 0.76475, saving model to /content/FuSENet//1_NEW_KERNEL32_B_32_hashing15_19.hdf5\n",
            "Epoch 35/50\n",
            "2049/2049 [==============================] - 2s 864us/step - loss: 0.8520 - acc: 0.7818 - val_loss: 1.0879 - val_acc: 0.6865\n",
            "\n",
            "Epoch 00035: val_loss did not improve from 0.76475\n",
            "Epoch 36/50\n",
            "2049/2049 [==============================] - 2s 872us/step - loss: 1.1545 - acc: 0.7228 - val_loss: 0.7582 - val_acc: 0.8105\n",
            "\n",
            "Epoch 00036: val_loss improved from 0.76475 to 0.75821, saving model to /content/FuSENet//1_NEW_KERNEL32_B_32_hashing15_19.hdf5\n",
            "Epoch 37/50\n",
            "2049/2049 [==============================] - 2s 871us/step - loss: 1.0177 - acc: 0.7604 - val_loss: 0.6868 - val_acc: 0.8330\n",
            "\n",
            "Epoch 00037: val_loss improved from 0.75821 to 0.68683, saving model to /content/FuSENet//1_NEW_KERNEL32_B_32_hashing15_19.hdf5\n",
            "Epoch 38/50\n",
            "2049/2049 [==============================] - 2s 867us/step - loss: 1.0510 - acc: 0.7374 - val_loss: 0.6690 - val_acc: 0.8359\n",
            "\n",
            "Epoch 00038: val_loss improved from 0.68683 to 0.66903, saving model to /content/FuSENet//1_NEW_KERNEL32_B_32_hashing15_19.hdf5\n",
            "Epoch 39/50\n",
            "2049/2049 [==============================] - 2s 874us/step - loss: 1.0034 - acc: 0.7433 - val_loss: 0.9164 - val_acc: 0.7744\n",
            "\n",
            "Epoch 00039: val_loss did not improve from 0.66903\n",
            "Epoch 40/50\n",
            "2049/2049 [==============================] - 2s 878us/step - loss: 1.0038 - acc: 0.7389 - val_loss: 0.7345 - val_acc: 0.8018\n",
            "\n",
            "Epoch 00040: val_loss did not improve from 0.66903\n",
            "Epoch 41/50\n",
            "2049/2049 [==============================] - 2s 881us/step - loss: 0.8425 - acc: 0.7794 - val_loss: 1.9628 - val_acc: 0.6250\n",
            "\n",
            "Epoch 00041: val_loss did not improve from 0.66903\n",
            "Epoch 42/50\n",
            "2049/2049 [==============================] - 2s 880us/step - loss: 1.0880 - acc: 0.7228 - val_loss: 1.1794 - val_acc: 0.7480\n",
            "\n",
            "Epoch 00042: val_loss did not improve from 0.66903\n",
            "Epoch 43/50\n",
            "2049/2049 [==============================] - 2s 880us/step - loss: 0.7947 - acc: 0.7901 - val_loss: 0.8442 - val_acc: 0.7783\n",
            "\n",
            "Epoch 00043: val_loss did not improve from 0.66903\n",
            "Epoch 44/50\n",
            "2049/2049 [==============================] - 2s 888us/step - loss: 0.9085 - acc: 0.7789 - val_loss: 1.8633 - val_acc: 0.5322\n",
            "\n",
            "Epoch 00044: val_loss did not improve from 0.66903\n",
            "Epoch 45/50\n",
            "2049/2049 [==============================] - 2s 882us/step - loss: 0.8712 - acc: 0.7750 - val_loss: 0.9535 - val_acc: 0.7275\n",
            "\n",
            "Epoch 00045: val_loss did not improve from 0.66903\n",
            "Epoch 46/50\n",
            "2049/2049 [==============================] - 2s 881us/step - loss: 0.8072 - acc: 0.7755 - val_loss: 0.9005 - val_acc: 0.7705\n",
            "\n",
            "Epoch 00046: val_loss did not improve from 0.66903\n",
            "Epoch 47/50\n",
            "2049/2049 [==============================] - 2s 879us/step - loss: 0.8019 - acc: 0.7994 - val_loss: 0.7344 - val_acc: 0.8389\n",
            "\n",
            "Epoch 00047: val_loss did not improve from 0.66903\n",
            "Epoch 48/50\n",
            "2049/2049 [==============================] - 2s 874us/step - loss: 0.8353 - acc: 0.7877 - val_loss: 0.7738 - val_acc: 0.8105\n",
            "\n",
            "Epoch 00048: val_loss did not improve from 0.66903\n",
            "Epoch 49/50\n",
            "2049/2049 [==============================] - 2s 876us/step - loss: 0.8511 - acc: 0.7887 - val_loss: 0.8840 - val_acc: 0.7695\n",
            "\n",
            "Epoch 00049: val_loss did not improve from 0.66903\n",
            "Epoch 50/50\n",
            "2049/2049 [==============================] - 2s 871us/step - loss: 0.8227 - acc: 0.8033 - val_loss: 0.7571 - val_acc: 0.8096\n",
            "\n",
            "Epoch 00050: val_loss did not improve from 0.66903\n",
            "7176/7176 [==============================] - 2s 305us/step\n",
            "3D RES_SS4 without BN Training Time:  121.363502\n",
            "3D RES_SS4 without BN Test time: 2.4583419999999876\n",
            "3D RES_SS4 without BN Test score: 0.8616496553787818\n",
            "3D RES_SS4 without BN Test accuracy: 0.7906911928651059\n",
            "dict_keys(['val_loss', 'val_acc', 'loss', 'acc'])\n",
            "3D RESNET_SS4 without BN training finished.\n",
            "# 1 Iteration\n",
            "Test score: 0.8616496553787818\n",
            "Test accuracy: 0.7906911928651059\n",
            "dict_keys(['val_loss', 'val_acc', 'loss', 'acc'])\n"
          ],
          "name": "stdout"
        },
        {
          "output_type": "stream",
          "text": [
            "/content/averageAccuracy.py:8: RuntimeWarning:\n",
            "\n",
            "invalid value encountered in true_divide\n",
            "\n"
          ],
          "name": "stderr"
        }
      ]
    },
    {
      "cell_type": "code",
      "metadata": {
        "id": "5dSEoVjekPd7"
      },
      "source": [
        ""
      ],
      "execution_count": null,
      "outputs": []
    }
  ]
}